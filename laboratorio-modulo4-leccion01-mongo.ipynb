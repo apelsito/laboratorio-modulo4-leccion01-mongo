{
 "cells": [
  {
   "cell_type": "markdown",
   "metadata": {},
   "source": [
    "\n",
    "<div style=\"text-align: center;\">\n",
    "  <img src=\"https://github.com/Hack-io-Data/Imagenes/blob/main/01-LogosHackio/logo_naranja@4x.png?raw=true\" alt=\"esquema\" />\n",
    "</div>\n",
    "\n",
    "# Contexto\n",
    "\n",
    "Trabajas como analista de datos para una empresa de comercio electrónico que vende una variedad de productos, desde libros y electrónicos hasta ropa y alimentos. Tu empresa está expandiendo sus operaciones y necesita optimizar la gestión de campañas de marketing y la interacción con los clientes. Para ello, has decidido utilizar MongoDB para almacenar y analizar los datos relacionados con los locales de la empresa, los productos, los clientes y las campañas de marketing.\n",
    "\n"
   ]
  },
  {
   "cell_type": "code",
   "execution_count": 2,
   "metadata": {},
   "outputs": [],
   "source": [
    "# importamos las librerías que necesitamos\n",
    "\n",
    "# Tratamiento de datos\n",
    "# -----------------------------------------------------------------------\n",
    "import pandas as pd\n",
    "import numpy as np\n",
    "\n",
    "# Para trabajar con datos de tipo fecha\n",
    "# ------------------------------------------------------------------------------\n",
    "from datetime import datetime\n",
    "\n",
    "# Para trabajar con Mongo\n",
    "# ------------------------------------------------------------------------------\n",
    "import pymongo\n",
    "\n",
    "# Configuración\n",
    "# -----------------------------------------------------------------------\n",
    "pd.set_option('display.max_columns', None) # para poder visualizar todas las columnas de los DataFrames"
   ]
  },
  {
   "cell_type": "markdown",
   "metadata": {},
   "source": [
    "#### Ejercicio 1. Creación de la BBDD y colecciones.\n",
    "\n",
    "- 1.1. Carga el archivo json 'campaigns.json'\n",
    "\n"
   ]
  },
  {
   "cell_type": "code",
   "execution_count": null,
   "metadata": {},
   "outputs": [],
   "source": []
  },
  {
   "cell_type": "markdown",
   "metadata": {},
   "source": [
    "- 1.2. Crea una base de datos llamada EcommerceDB.\n"
   ]
  },
  {
   "cell_type": "code",
   "execution_count": null,
   "metadata": {},
   "outputs": [],
   "source": []
  },
  {
   "cell_type": "markdown",
   "metadata": {},
   "source": [
    "\n",
    "- 1.3. Crea las colecciones asociadas a ese archivo json.\n",
    "\n"
   ]
  },
  {
   "cell_type": "code",
   "execution_count": null,
   "metadata": {},
   "outputs": [],
   "source": []
  },
  {
   "cell_type": "markdown",
   "metadata": {},
   "source": [
    "- 1.4. Inserta los datos a las distintas colecciones"
   ]
  },
  {
   "cell_type": "code",
   "execution_count": null,
   "metadata": {},
   "outputs": [],
   "source": []
  },
  {
   "cell_type": "markdown",
   "metadata": {
    "vscode": {
     "languageId": "plaintext"
    }
   },
   "source": [
    "#### Ejercicio 2. Consultas Básicas.\n",
    "\n",
    "- 2.1. Encuentra todos los locales que sean de tipo \"Warehouse\".\n"
   ]
  },
  {
   "cell_type": "code",
   "execution_count": null,
   "metadata": {},
   "outputs": [],
   "source": []
  },
  {
   "cell_type": "markdown",
   "metadata": {},
   "source": [
    "\n",
    "- 2.2. Obtén todas las categorías de productos distintas.\n",
    "\n"
   ]
  },
  {
   "cell_type": "code",
   "execution_count": null,
   "metadata": {},
   "outputs": [],
   "source": []
  },
  {
   "cell_type": "markdown",
   "metadata": {},
   "source": [
    "- 2.3. Encuentra todos los productos que no estén en la categoría \"Electronics\".\n",
    "\n"
   ]
  },
  {
   "cell_type": "code",
   "execution_count": null,
   "metadata": {},
   "outputs": [],
   "source": []
  },
  {
   "cell_type": "markdown",
   "metadata": {},
   "source": [
    "- 2.4. Encuentra todos los productos cuyo product_id sea mayor a 5.\n",
    "\n"
   ]
  },
  {
   "cell_type": "code",
   "execution_count": null,
   "metadata": {},
   "outputs": [],
   "source": []
  },
  {
   "cell_type": "markdown",
   "metadata": {},
   "source": [
    "- 2.5. Encuentra todos los locales con premise_id menor o igual a 3.\n"
   ]
  },
  {
   "cell_type": "code",
   "execution_count": null,
   "metadata": {},
   "outputs": [],
   "source": []
  },
  {
   "cell_type": "markdown",
   "metadata": {},
   "source": [
    "\n",
    "- 2.6. Encuentra todos los locales que sean de tipo \"Warehouse\" o tengan premise_id igual a 7.\n"
   ]
  },
  {
   "cell_type": "code",
   "execution_count": null,
   "metadata": {},
   "outputs": [],
   "source": []
  },
  {
   "cell_type": "markdown",
   "metadata": {},
   "source": [
    "\n",
    "- 2.7. Encuentra todos los clientes cuyo método de pago no sea \"Direct Debit\".\n"
   ]
  },
  {
   "cell_type": "code",
   "execution_count": null,
   "metadata": {},
   "outputs": [],
   "source": []
  },
  {
   "cell_type": "markdown",
   "metadata": {},
   "source": [
    "\n",
    "- 2.8. Encuentra todos los locales que tengan un campo premise_details.\n"
   ]
  },
  {
   "cell_type": "code",
   "execution_count": null,
   "metadata": {},
   "outputs": [],
   "source": []
  },
  {
   "cell_type": "markdown",
   "metadata": {},
   "source": [
    "- 2.9. Encuentra todos los productos cuyo product_id esté en la lista [1, 3, 5].\n"
   ]
  },
  {
   "cell_type": "code",
   "execution_count": null,
   "metadata": {},
   "outputs": [],
   "source": []
  },
  {
   "cell_type": "markdown",
   "metadata": {},
   "source": [
    "\n",
    "- 2.10. Encuentra todos los clientes cuyo correo electrónico contenga \".com\"."
   ]
  },
  {
   "cell_type": "code",
   "execution_count": null,
   "metadata": {},
   "outputs": [],
   "source": []
  },
  {
   "cell_type": "markdown",
   "metadata": {},
   "source": [
    "#### Ejercicio 3. Proyecciones y ordenamiento\n",
    "\n",
    "\n",
    "- 3.1. Encuentra todos los locales mostrando solo premise_id y premises_type.\n",
    "\n",
    "- 3.2. Encuentra todos los productos ordenados por product_name en orden ascendente.\n",
    "\n",
    "- 3.3. Encuentra los primeros 5 clientes.\n",
    "\n",
    "- 3.4. Encuentra los siguientes 5 clientes después de los primeros 5.\n",
    "\n",
    "- 3.5. Proyecta solo el product_name y la product_category de todos los productos."
   ]
  },
  {
   "cell_type": "code",
   "execution_count": null,
   "metadata": {},
   "outputs": [],
   "source": []
  },
  {
   "cell_type": "markdown",
   "metadata": {},
   "source": [
    "#### Ejercicio 4. Consultas Avanzadas.\n",
    "\n",
    "- 4.1. Encuentra todas las campañas de marketing en la categoría \"food\".\n",
    "\n",
    "- 4.2. Agrupa los productos por categoría y cuenta el número de productos en cada categoría.\n",
    "\n",
    "- 4.3. Realiza una búsqueda cruzada para encontrar los detalles de los locales asociados con cada dirección de cliente.\n",
    "\n",
    "- 4.4. Encuentra todas las campañas de marketing que comenzaron en el año 2021.\n",
    "\n",
    "- 4.5. Encuentra todas las categorías de productos que tienen al menos un producto cuyo product_id sea mayor a 10 y el nombre del producto contenga la letra 'a'.\n",
    "\n",
    "- 4.6. Encuentra todos los clientes cuyo método de pago sea \"Credit Card\" y cuya dirección de correo electrónico contenga \"example.com\". Proyecta solo el nombre del cliente y el correo electrónico.\n",
    "\n",
    "- 4.7. Proyecta solo el customer_id y address_type_code de todas las direcciones de clientes registradas después del \"01/01/2021\" y cuenta cuántas direcciones hay"
   ]
  },
  {
   "cell_type": "code",
   "execution_count": null,
   "metadata": {},
   "outputs": [],
   "source": []
  }
 ],
 "metadata": {
  "kernelspec": {
   "display_name": "Python 3",
   "language": "python",
   "name": "python3"
  },
  "language_info": {
   "codemirror_mode": {
    "name": "ipython",
    "version": 3
   },
   "file_extension": ".py",
   "mimetype": "text/x-python",
   "name": "python",
   "nbconvert_exporter": "python",
   "pygments_lexer": "ipython3",
   "version": "3.11.9"
  }
 },
 "nbformat": 4,
 "nbformat_minor": 2
}
